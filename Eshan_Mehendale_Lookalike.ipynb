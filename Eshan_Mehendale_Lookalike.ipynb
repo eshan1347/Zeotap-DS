{
 "cells": [
  {
   "cell_type": "code",
   "execution_count": 10,
   "id": "c88773d4-c452-40a0-bd48-f9155a4bf16e",
   "metadata": {},
   "outputs": [],
   "source": [
    "import numpy as np\n",
    "import pandas as pd\n",
    "import matplotlib.pyplot as plt\n",
    "import seaborn as sns\n",
    "import sklearn\n",
    "from sklearn.preprocessing import StandardScaler\n",
    "from sklearn.metrics.pairwise import cosine_similarity"
   ]
  },
  {
   "cell_type": "code",
   "execution_count": 11,
   "id": "1e8bdcf7-e3b7-4016-ae6a-2f97f985e6a2",
   "metadata": {},
   "outputs": [],
   "source": [
    "cust_df = pd.read_csv('./Customers.csv')\n",
    "pro_df = pd.read_csv('./Products.csv')\n",
    "tx_df = pd.read_csv('./Transactions.csv')"
   ]
  },
  {
   "cell_type": "code",
   "execution_count": 12,
   "id": "f84dcfe2-8bb9-41dc-a7d9-07ac3881c3dd",
   "metadata": {},
   "outputs": [],
   "source": [
    "# Convert dates to datetime\n",
    "cust_df['SignupDate'] = pd.to_datetime(cust_df['SignupDate'])\n",
    "tx_df['TransactionDate'] = pd.to_datetime(tx_df['TransactionDate'])"
   ]
  },
  {
   "cell_type": "code",
   "execution_count": 13,
   "id": "c872f1d6-eea0-4cae-868e-65b1fc9ea7f1",
   "metadata": {},
   "outputs": [],
   "source": [
    "tx_pro = pd.merge(tx_df, pro_df[['ProductID','ProductName', 'Category']] , on='ProductID', how='left')"
   ]
  },
  {
   "cell_type": "code",
   "execution_count": 14,
   "id": "8b97f545-a43a-4aa4-b6de-7361d1c4cd2f",
   "metadata": {},
   "outputs": [],
   "source": [
    "rec_tx_date = tx_pro['TransactionDate'].max()"
   ]
  },
  {
   "cell_type": "code",
   "execution_count": 15,
   "id": "a44d2532-7fc3-43ab-adee-05bab0995182",
   "metadata": {},
   "outputs": [],
   "source": [
    "cust_df['Tenure'] = (cust_df['SignupDate'] - rec_tx_date).dt.days"
   ]
  },
  {
   "cell_type": "code",
   "execution_count": 16,
   "id": "1b3df165-2bb6-4901-886d-87ab4dd8da6b",
   "metadata": {},
   "outputs": [
    {
     "data": {
      "text/plain": [
       "np.int64(0)"
      ]
     },
     "execution_count": 16,
     "metadata": {},
     "output_type": "execute_result"
    }
   ],
   "source": [
    "(cust_df['Tenure'] > 0).sum()"
   ]
  },
  {
   "cell_type": "code",
   "execution_count": 17,
   "id": "1c500491-9a79-4996-a69f-314c44a29416",
   "metadata": {},
   "outputs": [],
   "source": [
    "cust_df.drop(columns=['Tenure'], inplace=True)"
   ]
  },
  {
   "cell_type": "code",
   "execution_count": 18,
   "id": "56ee7b27-ae5f-4872-aee1-fed33d62ad1d",
   "metadata": {},
   "outputs": [],
   "source": [
    "reg_cust = pd.get_dummies(cust_df['Region'], prefix='Region')\n",
    "cust_ohe = pd.concat([cust_df[['CustomerID']], reg_cust], axis=1)"
   ]
  },
  {
   "cell_type": "code",
   "execution_count": 19,
   "id": "3e22f4f3-db14-462c-8a1a-8c819b2bcb57",
   "metadata": {},
   "outputs": [],
   "source": [
    "tx_stats = tx_pro.groupby('CustomerID').agg(\n",
    "    transaction_count=('TransactionID', 'count'),\n",
    "    total_quantity=('Quantity', 'sum'),\n",
    "    total_value=('TotalValue', 'sum'),\n",
    "    avg_transaction_value=('TotalValue', 'mean'),\n",
    "    avg_quantity_per_transaction=('Quantity', 'mean'),\n",
    "    first_transaction_date=('TransactionDate', 'min'),\n",
    "    last_transaction_date=('TransactionDate', 'max'),\n",
    "    unique_products=('ProductID', 'nunique'),\n",
    "    unique_categories=('Category', 'nunique'),\n",
    "    avg_price=('Price', 'mean')\n",
    ").reset_index()"
   ]
  },
  {
   "cell_type": "code",
   "execution_count": 20,
   "id": "7e3a8484-c866-4fc0-8888-6a9b4de069d7",
   "metadata": {},
   "outputs": [],
   "source": [
    "tx_stats['activity_duration'] = (tx_stats['last_transaction_date'] - tx_stats['first_transaction_date']).dt.days\n",
    "tx_stats['recency'] = (rec_tx_date - tx_stats['last_transaction_date']).dt.days\n",
    "tx_stats.drop(['first_transaction_date', 'last_transaction_date'], axis=1, inplace=True)"
   ]
  },
  {
   "cell_type": "code",
   "execution_count": 21,
   "id": "f6f30097-0869-4228-a4d7-d29e5c92684b",
   "metadata": {},
   "outputs": [],
   "source": [
    "df = pd.merge(tx_stats, cust_ohe, on='CustomerID', how='left')"
   ]
  },
  {
   "cell_type": "code",
   "execution_count": 22,
   "id": "418e0443-044c-428d-8840-8309b4f6c40b",
   "metadata": {},
   "outputs": [],
   "source": [
    "cust_ids = df['CustomerID']\n",
    "df.drop(columns=['CustomerID'], inplace=True)"
   ]
  },
  {
   "cell_type": "code",
   "execution_count": 23,
   "id": "c5a7bce5-8bad-4db0-a8d9-105018e11c27",
   "metadata": {},
   "outputs": [],
   "source": [
    "sim_matrix = cosine_similarity(df)"
   ]
  },
  {
   "cell_type": "code",
   "execution_count": 24,
   "id": "30d530de-60c4-4f74-94f2-879027d38280",
   "metadata": {},
   "outputs": [],
   "source": [
    "lookalike = {}\n",
    "for i in range(20):\n",
    "    tg = cust_ids[i]\n",
    "    sims = sim_matrix[i]\n",
    "    sort_sims = np.argsort(sims)[::-1]\n",
    "    top_3 = []\n",
    "    k = 0\n",
    "    while len(top_3) != 3:\n",
    "        if sort_sims[k] == i:\n",
    "            k += 1\n",
    "            continue\n",
    "        top_3.append(sort_sims[k])\n",
    "        k += 1\n",
    "    lookalike[f'{tg}'] = [(cust_ids[t], sims[t]) for t in top_3]"
   ]
  },
  {
   "cell_type": "code",
   "execution_count": 25,
   "id": "7f475129-ecd2-446c-882f-f0f20b098089",
   "metadata": {},
   "outputs": [],
   "source": [
    "res = pd.DataFrame(lookalike)"
   ]
  },
  {
   "cell_type": "code",
   "execution_count": 26,
   "id": "6f5b9978-7ae5-4884-b9e2-d4f6c71dca01",
   "metadata": {},
   "outputs": [],
   "source": [
    "res = res.T\n",
    "res.columns = ['Lookalike1', 'Lookalike2', 'Lookalike3']"
   ]
  },
  {
   "cell_type": "code",
   "execution_count": 27,
   "id": "18ae61a1-7c9b-4cb4-9ed7-b548bb14c0d8",
   "metadata": {},
   "outputs": [],
   "source": [
    "res.index.rename('CustomerID', inplace=True)"
   ]
  },
  {
   "cell_type": "code",
   "execution_count": null,
   "id": "77d28862-d9b0-4545-bb4f-7d4d8bd40e12",
   "metadata": {},
   "outputs": [],
   "source": [
    "res.to_csv('Lookalike.csv')"
   ]
  },
  {
   "cell_type": "code",
   "execution_count": 28,
   "id": "b00f3ea8-8f5a-4622-83ff-59f359b1766a",
   "metadata": {},
   "outputs": [
    {
     "data": {
      "text/html": [
       "<div>\n",
       "<style scoped>\n",
       "    .dataframe tbody tr th:only-of-type {\n",
       "        vertical-align: middle;\n",
       "    }\n",
       "\n",
       "    .dataframe tbody tr th {\n",
       "        vertical-align: top;\n",
       "    }\n",
       "\n",
       "    .dataframe thead th {\n",
       "        text-align: right;\n",
       "    }\n",
       "</style>\n",
       "<table border=\"1\" class=\"dataframe\">\n",
       "  <thead>\n",
       "    <tr style=\"text-align: right;\">\n",
       "      <th></th>\n",
       "      <th>Lookalike1</th>\n",
       "      <th>Lookalike2</th>\n",
       "      <th>Lookalike3</th>\n",
       "    </tr>\n",
       "    <tr>\n",
       "      <th>CustomerID</th>\n",
       "      <th></th>\n",
       "      <th></th>\n",
       "      <th></th>\n",
       "    </tr>\n",
       "  </thead>\n",
       "  <tbody>\n",
       "    <tr>\n",
       "      <th>C0001</th>\n",
       "      <td>(C0152, 0.9999815692994218)</td>\n",
       "      <td>(C0164, 0.9999691373270239)</td>\n",
       "      <td>(C0183, 0.999960399011372)</td>\n",
       "    </tr>\n",
       "    <tr>\n",
       "      <th>C0002</th>\n",
       "      <td>(C0031, 0.9998368577488196)</td>\n",
       "      <td>(C0029, 0.9997944044934609)</td>\n",
       "      <td>(C0010, 0.9996920105350803)</td>\n",
       "    </tr>\n",
       "    <tr>\n",
       "      <th>C0003</th>\n",
       "      <td>(C0117, 0.9996675973669418)</td>\n",
       "      <td>(C0070, 0.9996317430885981)</td>\n",
       "      <td>(C0006, 0.9996151036089245)</td>\n",
       "    </tr>\n",
       "    <tr>\n",
       "      <th>C0004</th>\n",
       "      <td>(C0068, 0.9999838232271343)</td>\n",
       "      <td>(C0028, 0.9999759360711772)</td>\n",
       "      <td>(C0145, 0.9999749005812171)</td>\n",
       "    </tr>\n",
       "    <tr>\n",
       "      <th>C0005</th>\n",
       "      <td>(C0085, 0.9998142752606903)</td>\n",
       "      <td>(C0061, 0.9996272738667601)</td>\n",
       "      <td>(C0115, 0.9995145614239235)</td>\n",
       "    </tr>\n",
       "  </tbody>\n",
       "</table>\n",
       "</div>"
      ],
      "text/plain": [
       "                             Lookalike1                   Lookalike2  \\\n",
       "CustomerID                                                             \n",
       "C0001       (C0152, 0.9999815692994218)  (C0164, 0.9999691373270239)   \n",
       "C0002       (C0031, 0.9998368577488196)  (C0029, 0.9997944044934609)   \n",
       "C0003       (C0117, 0.9996675973669418)  (C0070, 0.9996317430885981)   \n",
       "C0004       (C0068, 0.9999838232271343)  (C0028, 0.9999759360711772)   \n",
       "C0005       (C0085, 0.9998142752606903)  (C0061, 0.9996272738667601)   \n",
       "\n",
       "                             Lookalike3  \n",
       "CustomerID                               \n",
       "C0001        (C0183, 0.999960399011372)  \n",
       "C0002       (C0010, 0.9996920105350803)  \n",
       "C0003       (C0006, 0.9996151036089245)  \n",
       "C0004       (C0145, 0.9999749005812171)  \n",
       "C0005       (C0115, 0.9995145614239235)  "
      ]
     },
     "execution_count": 28,
     "metadata": {},
     "output_type": "execute_result"
    }
   ],
   "source": [
    "res.head()"
   ]
  },
  {
   "cell_type": "code",
   "execution_count": null,
   "id": "e373f905-0cef-4923-9162-4f3c8b17a41b",
   "metadata": {},
   "outputs": [],
   "source": []
  }
 ],
 "metadata": {
  "kernelspec": {
   "display_name": "Python 3 (ipykernel)",
   "language": "python",
   "name": "python3"
  },
  "language_info": {
   "codemirror_mode": {
    "name": "ipython",
    "version": 3
   },
   "file_extension": ".py",
   "mimetype": "text/x-python",
   "name": "python",
   "nbconvert_exporter": "python",
   "pygments_lexer": "ipython3",
   "version": "3.12.7"
  }
 },
 "nbformat": 4,
 "nbformat_minor": 5
}
